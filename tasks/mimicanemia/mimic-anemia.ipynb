{
 "cells": [
  {
   "cell_type": "markdown",
   "metadata": {},
   "source": [
    "### Preprocessing of the mimic anemia"
   ]
  },
  {
   "cell_type": "code",
   "execution_count": null,
   "metadata": {
    "collapsed": true
   },
   "outputs": [],
   "source": [
    "import pandas as pd\n",
    "import sys\n",
    "sys.path.append(\"..\")"
   ]
  },
  {
   "cell_type": "code",
   "execution_count": null,
   "metadata": {},
   "outputs": [],
   "source": [
    "import glob\n",
    "\n",
    "files = glob.glob(\"../mimic-data/cleaned_discharge_summaries.csv\")\n",
    "dict(enumerate(files))\n",
    "\n"
   ]
  },
  {
   "cell_type": "code",
   "execution_count": null,
   "metadata": {
    "collapsed": true
   },
   "outputs": [],
   "source": [
    "codes = pd.read_csv(files[0]).dropna()\n",
    "\n",
    "def has_label(x, positive_icd9) :\n",
    "    return any([positive_icd9 in y for y in x.split(';')])\n",
    "\n",
    "codes['has_c1'] = codes['ICD9_CODE'].apply(lambda x : has_label(x, '285.1'))\n",
    "codes['has_c2'] = codes['ICD9_CODE'].apply(lambda x : has_label(x, '285.2'))\n",
    "\n",
    "codes.groupby(['has_c1', 'has_c2']).size()\n",
    "\n",
    "data_for_pos_label = codes[(codes['has_c1'] == True) & (codes['has_c2'] == False)]\n",
    "data_for_neg_label = codes[(codes['has_c2'] == True) & (codes['has_c1'] == False)]\n",
    "\n",
    "data = pd.concat([data_for_neg_label, data_for_pos_label]).reset_index(drop=True)\n",
    "data['target'] = data['has_c1'].apply(lambda x : 1 if x else 0)"
   ]
  },
  {
   "cell_type": "code",
   "execution_count": null,
   "metadata": {
    "collapsed": true
   },
   "outputs": [],
   "source": [
    "from sklearn.model_selection import train_test_split\n",
    "idxs = {}\n",
    "idxs['train'], idxs['test'] = train_test_split(data.index, stratify=data['target'], test_size=0.2, random_state=12939)\n",
    "idxs['train'], idxs['dev'] = train_test_split(idxs['train'], stratify=[data['target'][i] for i in idxs['train']], \n",
    "                                              test_size=0.15, random_state=13448)"
   ]
  },
  {
   "cell_type": "code",
   "execution_count": null,
   "metadata": {
    "collapsed": true
   },
   "outputs": [],
   "source": [
    "keys = ['train', 'dev', 'test']\n",
    "import numpy as np\n",
    "texts = {}\n",
    "labels = {}\n",
    "for k in keys :\n",
    "    filtered = data[data.index.isin(idxs[k])]\n",
    "    texts[k] = list(filtered['TEXT'])\n",
    "    labels[k] = list(filtered['target'])"
   ]
  },
  {
   "cell_type": "code",
   "execution_count": null,
   "metadata": {
    "collapsed": true
   },
   "outputs": [],
   "source": [
    "df_texts = []\n",
    "df_labels = []\n",
    "df_exp_split = []\n",
    "\n",
    "for k in keys :\n",
    "    df_texts += texts[k]\n",
    "    df_labels += labels[k]\n",
    "    df_exp_split += [k]*len(texts[k])\n",
    "    \n",
    "df = pd.DataFrame({'text' : df_texts, 'label' : df_labels, 'exp_split' : df_exp_split}) \n",
    "df.to_csv('mimic_anemia_dataset.csv', index=False)"
   ]
  },
  {
   "cell_type": "code",
   "execution_count": null,
   "metadata": {},
   "outputs": [],
   "source": [
    "from preprocess_bc import extract_vocabulary_\n",
    "\n",
    "word_to_ix = extract_vocabulary_(min_df = 5, dataframe = df)\n",
    "\n",
    "df[\"text\"] = df[\"text\"].apply(lambda x: (\"<SOS> \" + x + \" <EOS>\").split())\n",
    "\n",
    "ix_to_word = {v:k for k,v in word_to_ix.items()}"
   ]
  },
  {
   "cell_type": "code",
   "execution_count": null,
   "metadata": {},
   "outputs": [],
   "source": [
    "from gensim.models import KeyedVectors\n",
    "\n",
    "model = KeyedVectors.load(\"../mimic-data/mimic-embeds.wv\")"
   ]
  },
  {
   "cell_type": "code",
   "execution_count": null,
   "metadata": {},
   "outputs": [],
   "source": [
    "word_dim, vocab_size = model.vector_size, len(word_to_ix)\n",
    "pretrained = np.zeros([vocab_size, word_dim])\n",
    "in_pre = 0\n",
    "for i, word in sorted(ix_to_word.items()):\n",
    "    if word in model:\n",
    "        pretrained[i] = model[word]\n",
    "        in_pre += 1\n",
    "    else:\n",
    "        pretrained[i] = np.random.randn(word_dim)\n",
    "\n",
    "pretrained[0] = np.zeros(word_dim)\n",
    "\n",
    "print(\"Found \" + str(in_pre) + \" words in model out of \" + str(len(ix_to_word)))"
   ]
  },
  {
   "cell_type": "code",
   "execution_count": null,
   "metadata": {},
   "outputs": [],
   "source": [
    "from preprocess_bc import text_to_seq\n",
    "\n",
    "train_ix = text_to_seq(df[df.exp_split == \"train\"][[\"text\",\"label\"]].values, word_to_ix)\n",
    "dev_ix = text_to_seq(df[df.exp_split == \"dev\"][[\"text\",\"label\"]].values, word_to_ix)\n",
    "test_ix = text_to_seq(df[df.exp_split == \"test\"][[\"text\",\"label\"]].values, word_to_ix)"
   ]
  },
  {
   "cell_type": "code",
   "execution_count": null,
   "metadata": {},
   "outputs": [],
   "source": [
    "from preprocess_bc import DataHolder_BC\n",
    "\n",
    "data = DataHolder_BC(train_ix, dev_ix, test_ix, word_to_ix, embeds =  pretrained)"
   ]
  },
  {
   "cell_type": "code",
   "execution_count": null,
   "metadata": {
    "collapsed": true
   },
   "outputs": [],
   "source": [
    "import pickle\n",
    "\n",
    "pickle.dump(data, open(\"data.p\", \"wb\"))"
   ]
  }
 ],
 "metadata": {
  "kernelspec": {
   "display_name": "Python 3",
   "language": "python",
   "name": "python3"
  },
  "language_info": {
   "codemirror_mode": {
    "name": "ipython",
    "version": 3
   },
   "file_extension": ".py",
   "mimetype": "text/x-python",
   "name": "python",
   "nbconvert_exporter": "python",
   "pygments_lexer": "ipython3",
   "version": "3.5.4"
  }
 },
 "nbformat": 4,
 "nbformat_minor": 2
}
