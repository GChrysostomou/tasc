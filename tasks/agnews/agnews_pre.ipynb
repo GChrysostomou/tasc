{
 "cells": [
  {
   "cell_type": "markdown",
   "metadata": {},
   "source": [
    "### Preprocessing of the AGnews group"
   ]
  },
  {
   "cell_type": "code",
   "execution_count": 1,
   "metadata": {
    "collapsed": true
   },
   "outputs": [],
   "source": [
    "import numpy as np\n",
    "import pickle\n",
    "import pandas as pd\n",
    "import sys\n",
    "sys.path.append(\"..\")\n",
    "\n",
    "\n",
    "import random\n",
    "\n",
    "random.seed(20)"
   ]
  },
  {
   "cell_type": "code",
   "execution_count": 2,
   "metadata": {},
   "outputs": [
    {
     "name": "stdout",
     "output_type": "stream",
     "text": [
      "--2020-02-17 09:19:37--  https://www.di.unipi.it/~gulli/newsSpace.bz2\n",
      "Resolving www.di.unipi.it (www.di.unipi.it)... 131.114.73.26\n",
      "Connecting to www.di.unipi.it (www.di.unipi.it)|131.114.73.26|:443... connected.\n",
      "HTTP request sent, awaiting response... 301 Moved Permanently\n",
      "Location: http://groups.di.unipi.it/~gulli/newsSpace.bz2 [following]\n",
      "--2020-02-17 09:19:37--  http://groups.di.unipi.it/~gulli/newsSpace.bz2\n",
      "Resolving groups.di.unipi.it (groups.di.unipi.it)... 131.114.3.24\n",
      "Connecting to groups.di.unipi.it (groups.di.unipi.it)|131.114.3.24|:80... connected.\n",
      "HTTP request sent, awaiting response... 200 OK\n",
      "Length: 118349315 (113M) [application/x-bzip2]\n",
      "Saving to: ‘newsSpace.bz2’\n",
      "\n",
      "newsSpace.bz2       100%[===================>] 112.87M  26.6MB/s    in 6.9s    \n",
      "\n",
      "2020-02-17 09:19:44 (16.2 MB/s) - ‘newsSpace.bz2’ saved [118349315/118349315]\n",
      "\n",
      "--2020-02-17 09:19:44--  http://./\n",
      "Resolving . (.)... failed: Name or service not known.\n",
      "wget: unable to resolve host address ‘.’\n",
      "FINISHED --2020-02-17 09:19:44--\n",
      "Total wall clock time: 7.2s\n",
      "Downloaded: 1 files, 113M in 6.9s (16.2 MB/s)\n",
      "rm: cannot remove '*.bz2': No such file or directory\n"
     ]
    }
   ],
   "source": [
    "!wget -nc https://www.di.unipi.it/~gulli/newsSpace.bz2 .\n",
    "!bzip2 -d newsSpace.bz2\n",
    "!rm *.bz2\n"
   ]
  },
  {
   "cell_type": "code",
   "execution_count": 3,
   "metadata": {
    "collapsed": true
   },
   "outputs": [],
   "source": [
    "x = open(\"newsSpace\", \"r\", encoding = \"latin1\")\n",
    "\n",
    "c = 0 \n",
    "\n",
    "data = []\n",
    "\n",
    "\n",
    "temp = []\n",
    "\n",
    "for line in x:\n",
    "\n",
    "    splitted = line.lower().split(\"\\t\")\n",
    "\n",
    "    if splitted[-1] == \"\\\\n\\n\":\n",
    "        \n",
    "        temp.extend(line.lower().split(\"\\t\"))\n",
    "        \n",
    "        del temp[-1]\n",
    "        \n",
    "        data.append(temp)\n",
    "        \n",
    "        temp = []\n",
    "        \n",
    "    else:\n",
    "        \n",
    "        temp.extend(line.lower().split(\"\\t\"))"
   ]
  },
  {
   "cell_type": "code",
   "execution_count": 4,
   "metadata": {},
   "outputs": [
    {
     "data": {
      "text/plain": [
       "['yahoo business',\n",
       " 'http://us.rd.yahoo.com/dailynews/rss/business/*http://story.news.yahoo.com/news?tmpl=story2&u=/nm/20040814/bs_nm/column_stocks_week_dc',\n",
       " 'wall st. pullback reflects tech blowout (reuters)',\n",
       " 'none',\n",
       " 'business',\n",
       " \"reuters - wall street's long-playing drama,\\\\\\n\",\n",
       " '\"waiting for google,\" is about to reach its final act, but its\\\\\\n',\n",
       " 'stock market debut is ending up as more of a nostalgia event\\\\\\n',\n",
       " 'than the catalyst for a new era.',\n",
       " '5',\n",
       " '0000-00-00 00:00:00']"
      ]
     },
     "execution_count": 4,
     "metadata": {},
     "output_type": "execute_result"
    }
   ],
   "source": [
    "data[0]"
   ]
  },
  {
   "cell_type": "code",
   "execution_count": 5,
   "metadata": {
    "collapsed": true
   },
   "outputs": [],
   "source": [
    "data = dict(enumerate(data))"
   ]
  },
  {
   "cell_type": "code",
   "execution_count": 6,
   "metadata": {
    "collapsed": true
   },
   "outputs": [],
   "source": [
    "headers = \"source\\t\\turl\\t\\ttitle\\t\\timage\\t\\tcategory\\t\\trank\\t\\ttime\\t\\tdescription\"\n",
    "\n",
    "keys = headers.split(\"\\t\\t\")\n",
    "\n",
    "new_data = []\n",
    "\n",
    "for i, doc in data.items():\n",
    "    \n",
    "    \n",
    "    temp = doc.copy()\n",
    "    \n",
    "    row = {}\n",
    "    \n",
    "    row[\"source\"] = temp[0]\n",
    "    \n",
    "    del temp[0]\n",
    "    \n",
    "    row[\"url\"] = temp[0]\n",
    " \n",
    "    del temp[0]\n",
    "    \n",
    "    row[\"title\"] = temp[0]\n",
    "    \n",
    "    del temp[0]\n",
    "    \n",
    "    row[\"image\"] = temp[0]\n",
    "    \n",
    "    del temp[0]\n",
    "    \n",
    "    row[\"category\"] = temp[0]\n",
    "    \n",
    "    del temp[0]\n",
    "    \n",
    "    row[\"rank\"] = temp[-2]\n",
    "    \n",
    "    del temp[-2]\n",
    "    \n",
    "    row[\"time\"] = temp[-1]\n",
    "    \n",
    "    del temp[-1]\n",
    "    \n",
    "    text = \" \".join(temp)\n",
    "    \n",
    "    row[\"description\"] = text\n",
    "    \n",
    "    if (row[\"category\"] == \"world\") or (row[\"category\"] == \"business\"):\n",
    "    \n",
    "        new_data.append(row)\n"
   ]
  },
  {
   "cell_type": "code",
   "execution_count": 7,
   "metadata": {},
   "outputs": [
    {
     "data": {
      "text/plain": [
       "{'category': 'top news',\n",
       " 'description': 'steven kazmierczak had been taking three drugs prescribed for him by his psychiatrist, the northern illinois university gunman\\'s girlfriend told cnn. jessica baty said her boyfriend of two years had been taking xanax, used to treat anxiety, and ambien, a sleep agent, as well as the antidepressant prozac.\\\\\\n <p><a href=\"http://rss.cnn.com/~a/rss/cnn_topstories?a=f8vefk\"><img src=\"http://rss.cnn.com/~a/rss/cnn_topstories?i=f8vefk\" border=\"0\"></img></a></p><div class=\"feedflare\">\\\\\\n <a href=\"http://rss.cnn.com/~f/rss/cnn_topstories?a=bmuceae\"><img src=\"http://rss.cnn.com/~f/rss/cnn_topstories?i=bmuceae\" border=\"0\"></img></a> <a href=\"http://rss.cnn.com/~f/rss/cnn_topstories?a=mojf2qe\"><img src=\"http://rss.cnn.com/~f/rss/cnn_topstories?i=mojf2qe\" border=\"0\"></img></a> <a href=\"http://rss.cnn.com/~f/rss/cnn_topstories?a=acodt4e\"><img src=\"http://rss.cnn.com/~f/rss/cnn_topstories?i=acodt4e\" border=\"0\"></img></a> <a href=\"http://rss.cnn.com/~f/rss/cnn_topstories?a=xfwszhe\"><img src=\"http://rss.cnn.com/~f/rss/cnn_topstories?i=xfwszhe\" border=\"0\"></img></a> <a href=\"http://rss.cnn.com/~f/rss/cnn_topstories?a=jfudsce\"><img src=\"http://rss.cnn.com/~f/rss/cnn_topstories?i=jfudsce\" border=\"0\"></img></a>\\\\\\n </div><img src=\"http://rss.cnn.com/~r/rss/cnn_topstories/~4/238338926\" height=\"1\" width=\"1\"/>',\n",
       " 'image': 'none',\n",
       " 'rank': '5',\n",
       " 'source': 'cnn top news',\n",
       " 'time': '2008-02-20 22:47:01',\n",
       " 'title': 'girlfriend: shooter was taking 3 drugs',\n",
       " 'url': 'http://rss.cnn.com/~r/rss/cnn_topstories/~3/238338926/index.html'}"
      ]
     },
     "execution_count": 7,
     "metadata": {},
     "output_type": "execute_result"
    }
   ],
   "source": [
    "row"
   ]
  },
  {
   "cell_type": "code",
   "execution_count": 8,
   "metadata": {
    "collapsed": true
   },
   "outputs": [],
   "source": [
    "import csv\n",
    "\n",
    "with open(\"agnews_data.csv\", 'w') as output_file:\n",
    "    dict_writer = csv.DictWriter(output_file, keys)\n",
    "    dict_writer.writeheader()\n",
    "    dict_writer.writerows(new_data)"
   ]
  },
  {
   "cell_type": "code",
   "execution_count": 9,
   "metadata": {
    "collapsed": true
   },
   "outputs": [],
   "source": [
    "data = pd.read_csv(\"agnews_data.csv\",sep = \",\" ,  error_bad_lines=False)"
   ]
  },
  {
   "cell_type": "code",
   "execution_count": 10,
   "metadata": {
    "collapsed": true
   },
   "outputs": [],
   "source": [
    "data = data[[\"category\", \"description\"]]"
   ]
  },
  {
   "cell_type": "code",
   "execution_count": 11,
   "metadata": {},
   "outputs": [
    {
     "data": {
      "text/plain": [
       "array(['reuters - wall street\\'s long-playing drama,\\\\\\n \"waiting for google,\" is about to reach its final act, but its\\\\\\n stock market debut is ending up as more of a nostalgia event\\\\\\n than the catalyst for a new era.'],\n",
       "      dtype=object)"
      ]
     },
     "execution_count": 11,
     "metadata": {},
     "output_type": "execute_result"
    }
   ],
   "source": [
    "data.head(1).description.values\n"
   ]
  },
  {
   "cell_type": "code",
   "execution_count": 12,
   "metadata": {
    "collapsed": true
   },
   "outputs": [],
   "source": [
    "business = data[data[\"category\"] == \"business\"] \n",
    "world = data[data[\"category\"] == \"world\"] "
   ]
  },
  {
   "cell_type": "code",
   "execution_count": 13,
   "metadata": {},
   "outputs": [
    {
     "data": {
      "text/plain": [
       "(151220, 138211)"
      ]
     },
     "execution_count": 13,
     "metadata": {},
     "output_type": "execute_result"
    }
   ],
   "source": [
    "len(world), len(business)"
   ]
  },
  {
   "cell_type": "code",
   "execution_count": 14,
   "metadata": {
    "collapsed": true
   },
   "outputs": [],
   "source": [
    "business = business.sample(36000)\n",
    "world = world.sample(36000)"
   ]
  },
  {
   "cell_type": "code",
   "execution_count": 15,
   "metadata": {
    "collapsed": true
   },
   "outputs": [],
   "source": [
    "all_b = list(zip(business[\"description\"], business[\"category\"]))\n",
    "all_w = list(zip(world[\"description\"], world[\"category\"]))"
   ]
  },
  {
   "cell_type": "code",
   "execution_count": 16,
   "metadata": {
    "collapsed": true
   },
   "outputs": [],
   "source": [
    "all_b = [(x, 0) for (x,y) in all_b]\n",
    "\n",
    "all_w = [(x, 1) for (x,y) in all_w]\n",
    "\n",
    "x_filtered, y = zip(*all_b + all_w)\n",
    "\n",
    "from sklearn.model_selection import train_test_split as tt_split\n",
    "\n",
    "x_traindev, x_test, y_traindev, y_test = tt_split(x_filtered, y, test_size=0.055, random_state=13478, stratify=y)"
   ]
  },
  {
   "cell_type": "code",
   "execution_count": 17,
   "metadata": {},
   "outputs": [
    {
     "data": {
      "image/png": "[encoded data removed]",
      "text/plain": [
       "<matplotlib.figure.Figure at 0x7fe1669521d0>"
      ]
     },
     "metadata": {},
     "output_type": "display_data"
    }
   ],
   "source": [
    "import matplotlib.pyplot as plt\n",
    "\n",
    "lengths = [len(str(x).split()) for x in x_traindev if len(str(x).split()) < 500]\n",
    "\n",
    "plt.hist(lengths, bins = 20)\n",
    "\n",
    "plt.show()"
   ]
  },
  {
   "cell_type": "code",
   "execution_count": 18,
   "metadata": {},
   "outputs": [
    {
     "data": {
      "text/plain": [
       "((array([0, 1]), array([1980, 1980])), (array([0, 1]), array([34020, 34020])))"
      ]
     },
     "execution_count": 18,
     "metadata": {},
     "output_type": "execute_result"
    }
   ],
   "source": [
    "np.unique(y_test, return_counts=True), np.unique(y_traindev, return_counts=True)"
   ]
  },
  {
   "cell_type": "code",
   "execution_count": 19,
   "metadata": {
    "collapsed": true
   },
   "outputs": [],
   "source": [
    "from sklearn.model_selection import train_test_split as tt_split\n",
    "\n",
    "x_train, x_dev, y_train, y_dev = tt_split(x_traindev, y_traindev, test_size=0.105, random_state=13478, stratify=y_traindev)"
   ]
  },
  {
   "cell_type": "code",
   "execution_count": 20,
   "metadata": {},
   "outputs": [
    {
     "data": {
      "text/plain": [
       "((array([0, 1]), array([30448, 30447])),\n",
       " (array([0, 1]), array([3572, 3573])),\n",
       " (array([0, 1]), array([1980, 1980])))"
      ]
     },
     "execution_count": 20,
     "metadata": {},
     "output_type": "execute_result"
    }
   ],
   "source": [
    "np.unique(y_train, return_counts=True), np.unique(y_dev, return_counts=True),np.unique(y_test, return_counts=True)"
   ]
  },
  {
   "cell_type": "code",
   "execution_count": 21,
   "metadata": {},
   "outputs": [],
   "source": [
    "from preprocess_bc import cleaner"
   ]
  },
  {
   "cell_type": "code",
   "execution_count": 22,
   "metadata": {},
   "outputs": [],
   "source": [
    "x_train_filt = [cleaner(str(doc))for doc in x_train]\n",
    "x_dev_filt = [cleaner(str(doc)) for doc in x_dev]\n",
    "x_test_filt = [cleaner(str(doc)) for doc in x_test]"
   ]
  },
  {
   "cell_type": "code",
   "execution_count": 23,
   "metadata": {},
   "outputs": [
    {
     "data": {
      "text/plain": [
       "['delegates',\n",
       " 'from',\n",
       " 'the',\n",
       " 'world',\n",
       " \"'s\",\n",
       " 'top',\n",
       " 'polluting',\n",
       " 'nations',\n",
       " 'are',\n",
       " 'meeting',\n",
       " 'in',\n",
       " 'washington',\n",
       " 'to',\n",
       " 'discuss',\n",
       " 'tackling',\n",
       " 'climate',\n",
       " 'change',\n",
       " '.']"
      ]
     },
     "execution_count": 23,
     "metadata": {},
     "output_type": "execute_result"
    }
   ],
   "source": [
    "x_train_filt[0]"
   ]
  },
  {
   "cell_type": "code",
   "execution_count": 24,
   "metadata": {
    "collapsed": true
   },
   "outputs": [],
   "source": [
    "texts = { 'train' : x_train_filt, 'test' : x_test_filt, 'dev' : x_dev_filt }\n",
    "labels = { 'train' : y_train, 'test' : y_test, 'dev' : y_dev }"
   ]
  },
  {
   "cell_type": "code",
   "execution_count": 25,
   "metadata": {
    "collapsed": true
   },
   "outputs": [],
   "source": [
    "import pandas as pd\n",
    "df_texts = []\n",
    "df_labels = []\n",
    "df_exp_splits = []\n",
    "\n",
    "for key in ['train', 'test', 'dev'] :\n",
    "    df_texts += [str(\" \".join(ls[1:-1])) for ls in texts[key]]\n",
    "    df_labels += labels[key]\n",
    "    df_exp_splits += [key] * len(texts[key])\n",
    "    \n",
    "df = pd.DataFrame({'text' : df_texts, 'label' : df_labels, 'exp_split' : df_exp_splits})\n",
    "\n",
    "df[\"text\"] = df[\"text\"].astype(str)\n",
    "df.to_csv('agnews_dataset.csv', index=False)"
   ]
  },
  {
   "cell_type": "code",
   "execution_count": 26,
   "metadata": {},
   "outputs": [
    {
     "data": {
      "text/html": [
       "<div>\n",
       "<style scoped>\n",
       "    .dataframe tbody tr th:only-of-type {\n",
       "        vertical-align: middle;\n",
       "    }\n",
       "\n",
       "    .dataframe tbody tr th {\n",
       "        vertical-align: top;\n",
       "    }\n",
       "\n",
       "    .dataframe thead th {\n",
       "        text-align: right;\n",
       "    }\n",
       "</style>\n",
       "<table border=\"1\" class=\"dataframe\">\n",
       "  <thead>\n",
       "    <tr style=\"text-align: right;\">\n",
       "      <th></th>\n",
       "      <th>exp_split</th>\n",
       "      <th>label</th>\n",
       "      <th>text</th>\n",
       "    </tr>\n",
       "  </thead>\n",
       "  <tbody>\n",
       "    <tr>\n",
       "      <th>0</th>\n",
       "      <td>train</td>\n",
       "      <td>1</td>\n",
       "      <td>from the world 's top polluting nations are me...</td>\n",
       "    </tr>\n",
       "    <tr>\n",
       "      <th>1</th>\n",
       "      <td>train</td>\n",
       "      <td>1</td>\n",
       "      <td>government has announced that forces loyal to ...</td>\n",
       "    </tr>\n",
       "    <tr>\n",
       "      <th>2</th>\n",
       "      <td>train</td>\n",
       "      <td>0</td>\n",
       "      <td>sees its pension fund deficit hit qqq , and wi...</td>\n",
       "    </tr>\n",
       "    <tr>\n",
       "      <th>3</th>\n",
       "      <td>train</td>\n",
       "      <td>0</td>\n",
       "      <td>commerzbank , stung by its foray into the vola...</td>\n",
       "    </tr>\n",
       "    <tr>\n",
       "      <th>4</th>\n",
       "      <td>train</td>\n",
       "      <td>0</td>\n",
       "      <td></td>\n",
       "    </tr>\n",
       "    <tr>\n",
       "      <th>5</th>\n",
       "      <td>train</td>\n",
       "      <td>0</td>\n",
       "      <td>of the media have been speculating on a variet...</td>\n",
       "    </tr>\n",
       "    <tr>\n",
       "      <th>6</th>\n",
       "      <td>train</td>\n",
       "      <td>0</td>\n",
       "      <td>fine anount to $ qqq from $ qqq million in qqq</td>\n",
       "    </tr>\n",
       "    <tr>\n",
       "      <th>7</th>\n",
       "      <td>train</td>\n",
       "      <td>1</td>\n",
       "      <td>man armed with a suitcase full of knives fatal...</td>\n",
       "    </tr>\n",
       "    <tr>\n",
       "      <th>8</th>\n",
       "      <td>train</td>\n",
       "      <td>1</td>\n",
       "      <td>quot;i am a journalist . qqq dying , qqq dying...</td>\n",
       "    </tr>\n",
       "    <tr>\n",
       "      <th>9</th>\n",
       "      <td>train</td>\n",
       "      <td>1</td>\n",
       "      <td>news , kinshasa - the united nations is invest...</td>\n",
       "    </tr>\n",
       "  </tbody>\n",
       "</table>\n",
       "</div>"
      ],
      "text/plain": [
       "  exp_split  label                                               text\n",
       "0     train      1  from the world 's top polluting nations are me...\n",
       "1     train      1  government has announced that forces loyal to ...\n",
       "2     train      0  sees its pension fund deficit hit qqq , and wi...\n",
       "3     train      0  commerzbank , stung by its foray into the vola...\n",
       "4     train      0                                                   \n",
       "5     train      0  of the media have been speculating on a variet...\n",
       "6     train      0     fine anount to $ qqq from $ qqq million in qqq\n",
       "7     train      1  man armed with a suitcase full of knives fatal...\n",
       "8     train      1  quot;i am a journalist . qqq dying , qqq dying...\n",
       "9     train      1  news , kinshasa - the united nations is invest..."
      ]
     },
     "execution_count": 26,
     "metadata": {},
     "output_type": "execute_result"
    }
   ],
   "source": [
    "df.head(10)"
   ]
  },
  {
   "cell_type": "code",
   "execution_count": 27,
   "metadata": {},
   "outputs": [
    {
     "data": {
      "text/plain": [
       "((array([0, 1]), array([30448, 30447])), (array([0, 1]), array([1980, 1980])))"
      ]
     },
     "execution_count": 27,
     "metadata": {},
     "output_type": "execute_result"
    }
   ],
   "source": [
    "np.unique(y_train, return_counts=True), np.unique(y_test, return_counts=True)"
   ]
  },
  {
   "cell_type": "code",
   "execution_count": 28,
   "metadata": {},
   "outputs": [],
   "source": [
    "from preprocess_bc import extract_vocabulary_\n",
    "\n",
    "word_to_ix = extract_vocabulary_(min_df = 5, dataframe = df)"
   ]
  },
  {
   "cell_type": "code",
   "execution_count": 29,
   "metadata": {},
   "outputs": [],
   "source": [
    "df[\"text\"] = df[\"text\"].apply(lambda x: (\"<SOS> \" + x + \" <EOS>\").split())"
   ]
  },
  {
   "cell_type": "markdown",
   "metadata": {},
   "source": [
    "### Forming our vocabulary, ixing data and saving it"
   ]
  },
  {
   "cell_type": "code",
   "execution_count": 30,
   "metadata": {
    "collapsed": true
   },
   "outputs": [],
   "source": [
    "from preprocess_bc import text_to_seq\n",
    "\n",
    "ix_to_word = {v:k for k,v in word_to_ix.items()}\n",
    "\n",
    "train_ix = text_to_seq(df[df.exp_split == \"train\"][[\"text\",\"label\"]].values, word_to_ix)\n",
    "dev_ix = text_to_seq(df[df.exp_split == \"dev\"][[\"text\",\"label\"]].values, word_to_ix)\n",
    "test_ix = text_to_seq(df[df.exp_split == \"test\"][[\"text\",\"label\"]].values, word_to_ix)"
   ]
  },
  {
   "cell_type": "code",
   "execution_count": 31,
   "metadata": {},
   "outputs": [
    {
     "name": "stdout",
     "output_type": "stream",
     "text": [
      "Found  13713  words out of  14573\n"
     ]
    }
   ],
   "source": [
    "from preprocess_bc import pretrained_embeds, DataHolder_BC\n",
    "\n",
    "pre = pretrained_embeds('glove.840B.300d', ix_to_word)\n",
    "pretrained = pre.processed()"
   ]
  },
  {
   "cell_type": "code",
   "execution_count": 32,
   "metadata": {
    "collapsed": true
   },
   "outputs": [],
   "source": [
    "data = DataHolder_BC(train_ix, dev_ix, test_ix, word_to_ix, embeds =  pretrained)"
   ]
  },
  {
   "cell_type": "code",
   "execution_count": 33,
   "metadata": {
    "collapsed": true
   },
   "outputs": [],
   "source": [
    "import pickle\n",
    "\n",
    "pickle.dump(data, open(\"data.p\", \"wb\"))"
   ]
  },
  {
   "cell_type": "code",
   "execution_count": 34,
   "metadata": {
    "collapsed": true
   },
   "outputs": [],
   "source": [
    "!rm newsSpace"
   ]
  }
 ],
 "metadata": {
  "kernelspec": {
   "display_name": "Python 3",
   "language": "python",
   "name": "python3"
  },
  "language_info": {
   "codemirror_mode": {
    "name": "ipython",
    "version": 3
   },
   "file_extension": ".py",
   "mimetype": "text/x-python",
   "name": "python",
   "nbconvert_exporter": "python",
   "pygments_lexer": "ipython3",
   "version": "3.7.6"
  }
 },
 "nbformat": 4,
 "nbformat_minor": 2
}
