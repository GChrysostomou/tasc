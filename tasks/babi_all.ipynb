{
 "cells": [
  {
   "cell_type": "markdown",
   "metadata": {},
   "source": [
    "### Preprocessing of babi all"
   ]
  },
  {
   "cell_type": "code",
   "execution_count": null,
   "metadata": {},
   "outputs": [],
   "source": [
    "!wget -nc http://www.thespermwhale.com/jaseweston/babi/tasks_1-20_v1-2.tar.gz .\n",
    "!tar -C .  -zxvf  ./tasks_1-20_v1-2.tar.gz \n",
    "!rm tasks_1-20_v1-2.tar.gz"
   ]
  },
  {
   "cell_type": "code",
   "execution_count": null,
   "metadata": {},
   "outputs": [],
   "source": [
    "import os\n",
    "\n",
    "directories = [\"babi1\", \"babi2\", \"babi3\"]\n",
    "\n",
    "def dirmaker(list):\n",
    "\n",
    "    for item in list:\n",
    "\n",
    "        try:\n",
    "\n",
    "            os.makedirs(item)\n",
    "\n",
    "        except:\n",
    "\n",
    "            print(\"Folder already exists\")\n",
    "            \n",
    "dirmaker(directories)"
   ]
  },
  {
   "cell_type": "code",
   "execution_count": null,
   "metadata": {
    "collapsed": true
   },
   "outputs": [],
   "source": [
    "import numpy as np\n",
    "import matplotlib.pyplot as plt\n",
    "\n",
    "keys = ['train', 'test']"
   ]
  },
  {
   "cell_type": "code",
   "execution_count": null,
   "metadata": {
    "collapsed": true
   },
   "outputs": [],
   "source": [
    "def _parse(file):\n",
    "    data, story = [], []\n",
    "    for line in open(file).readlines():\n",
    "        tid, text = line.rstrip('\\n').split(' ', 1)\n",
    "        if tid == '1':\n",
    "            story = []\n",
    "        # sentence\n",
    "        if text.endswith('.'):\n",
    "            story.append(text[:-1])\n",
    "        # question\n",
    "        else:\n",
    "            # remove any leading or trailing whitespace after splitting\n",
    "            query, answer, supporting = (x.strip() for x in text.split('\\t'))\n",
    "            substory = [x for x in story if x]\n",
    "            data.append((substory, query[:-1], answer))    # remove '?'\n",
    "            story.append(\"\")\n",
    "    return data"
   ]
  },
  {
   "cell_type": "code",
   "execution_count": null,
   "metadata": {},
   "outputs": [],
   "source": [
    "tasks = ['qa1_single-supporting-fact_', 'qa2_two-supporting-facts_', 'qa3_three-supporting-facts_']\n",
    "data = {}\n",
    "for t in tasks :\n",
    "    data[t] = {}\n",
    "    for k in keys :\n",
    "        data[t][k] = list(zip(*_parse('./tasks_1-20_v1-2/en-10k/' + t + k + '.txt')))"
   ]
  },
  {
   "cell_type": "code",
   "execution_count": null,
   "metadata": {
    "collapsed": true
   },
   "outputs": [],
   "source": [
    "p, q, a = {}, {}, {}\n",
    "\n",
    "for k in keys :\n",
    "    p[k], q[k], a[k] = {}, {}, {}\n",
    "    for t in tasks :\n",
    "        p[k][t] = [\" . \".join(x) for x in data[t][k][0]]\n",
    "        q[k][t] = data[t][k][1]\n",
    "        a[k][t] = data[t][k][2]"
   ]
  },
  {
   "cell_type": "code",
   "execution_count": null,
   "metadata": {
    "collapsed": true
   },
   "outputs": [],
   "source": [
    "import pandas as pd\n",
    "import os\n",
    "\n",
    "file_paths = {}\n",
    "\n",
    "for i,t in enumerate(tasks):\n",
    "    df_paragraphs = []\n",
    "    df_questions = []\n",
    "    df_answers = []\n",
    "    df_exp_splits = []\n",
    "\n",
    "    for k in keys :\n",
    "        df_paragraphs += p[k][t]\n",
    "        df_questions += q[k][t]\n",
    "        df_answers += a[k][t]\n",
    "        df_exp_splits += [k] * len(p[k][t])\n",
    "\n",
    "    df = {'paragraph' : df_paragraphs, 'question' : df_questions, 'answer' : df_answers, 'exp_split' : df_exp_splits}\n",
    "    df = pd.DataFrame(df)\n",
    "    \n",
    "    from sklearn.model_selection import train_test_split\n",
    "    train_idx, dev_idx = train_test_split(df.index[df.exp_split == 'train'], test_size=0.15, random_state=16377)\n",
    "    df.loc[dev_idx, 'exp_split'] = 'dev'\n",
    "    \n",
    "    file_paths[\"babi\" + str(i + 1)] = './babi' + str(i+1) + '/data_splits.csv'\n",
    "    \n",
    "    df.to_csv('babi' + str(i+1) + '/data_splits.csv', index=False)"
   ]
  },
  {
   "cell_type": "code",
   "execution_count": null,
   "metadata": {},
   "outputs": [],
   "source": [
    "import pickle\n",
    "from preprocess_qa import extract_vocabulary_, text_to_seq, DataHolder_QA\n",
    "\n",
    "\n",
    "c = 0\n",
    "\n",
    "for task, filepath in file_paths.items():\n",
    "    \n",
    "    babi_ = pd.read_csv(filepath)\n",
    "    \n",
    "    ix_2_answers = dict(enumerate(set(babi_.answer)))\n",
    "    answers_2_ix = {v:k for k,v in ix_2_answers.items()}\n",
    "    \n",
    "    word_to_ix = extract_vocabulary_(min_df = 1, dataframe = babi_)\n",
    "    ix_to_word = {v:k for k,v in word_to_ix.items()}\n",
    "    \n",
    "    babi_[\"paragraph\"] = babi_[\"paragraph\"].apply(lambda x: \"<SOS> \" + x + \" <EOS>\")\n",
    "    babi_[\"question\"] = babi_[\"question\"].apply(lambda x: \"<SOS> \" + x + \" <EOS>\")\n",
    "    \n",
    "    babi_[\"paragraph\"] = babi_[\"paragraph\"].apply(lambda x: text_to_seq(x, word_to_ix))\n",
    "    babi_[\"question\"] = babi_[\"question\"].apply(lambda x: text_to_seq(x, word_to_ix))\n",
    "    babi_[\"answer\"] = babi_[\"answer\"].apply(lambda x: text_to_seq(x, word_to_ix))#answers_2_ix, True))\n",
    "    \n",
    "    train_ix = babi_[babi_.exp_split == \"train\"][[\"paragraph\",\"question\",\"answer\"]].values\n",
    "    dev_ix = babi_[babi_.exp_split == \"dev\"][[\"paragraph\",\"question\", \"answer\"]].values\n",
    "    test_ix = babi_[babi_.exp_split == \"test\"][[\"paragraph\",\"question\", \"answer\"]].values\n",
    "    \n",
    "    data = DataHolder_QA(train_ix, dev_ix, test_ix, word_to_ix, answers_2_ix)\n",
    "    pickle.dump(data, open(filepath.split(\"/\")[1] + \"/data.p\", \"wb\"))\n",
    "    \n",
    "    c+=1\n",
    "    \n",
    "    print(len(word_to_ix))"
   ]
  },
  {
   "cell_type": "code",
   "execution_count": null,
   "metadata": {},
   "outputs": [],
   "source": [
    "[ix_to_word[w] for w in train_ix[0][1]]"
   ]
  },
  {
   "cell_type": "code",
   "execution_count": null,
   "metadata": {
    "collapsed": true
   },
   "outputs": [],
   "source": [
    "!rm -r tasks_1-20_v1-2/"
   ]
  }
 ],
 "metadata": {
  "kernelspec": {
   "display_name": "Python 3",
   "language": "python",
   "name": "python3"
  },
  "language_info": {
   "codemirror_mode": {
    "name": "ipython",
    "version": 3
   },
   "file_extension": ".py",
   "mimetype": "text/x-python",
   "name": "python",
   "nbconvert_exporter": "python",
   "pygments_lexer": "ipython3",
   "version": "3.5.4"
  }
 },
 "nbformat": 4,
 "nbformat_minor": 2
}
