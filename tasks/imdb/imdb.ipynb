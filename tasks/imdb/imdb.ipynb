{
 "cells": [
  {
   "cell_type": "markdown",
   "metadata": {},
   "source": [
    "### Preprocessing of the IMDB"
   ]
  },
  {
   "cell_type": "code",
   "execution_count": 1,
   "metadata": {},
   "outputs": [],
   "source": [
    "import pandas as pd\n",
    "from tqdm import tqdm_notebook\n",
    "import sys\n",
    "sys.path.append(\"..\")"
   ]
  },
  {
   "cell_type": "code",
   "execution_count": 2,
   "metadata": {},
   "outputs": [
    {
     "name": "stdout",
     "output_type": "stream",
     "text": [
      "--2021-05-06 21:56:44--  https://s3.amazonaws.com/text-datasets/imdb_full.pkl\n",
      "Resolving s3.amazonaws.com (s3.amazonaws.com)... 52.217.170.24\n",
      "Connecting to s3.amazonaws.com (s3.amazonaws.com)|52.217.170.24|:443... connected.\n",
      "HTTP request sent, awaiting response... 200 OK\n",
      "Length: 65552540 (63M) [application/octet-stream]\n",
      "Saving to: ‘imdb_full.pkl’\n",
      "\n",
      "imdb_full.pkl       100%[===================>]  62.52M  1.62MB/s    in 34s     \n",
      "\n",
      "2021-05-06 21:57:18 (1.85 MB/s) - ‘imdb_full.pkl’ saved [65552540/65552540]\n",
      "\n",
      "--2021-05-06 21:57:18--  http://./\n",
      "Resolving . (.)... failed: Temporary failure in name resolution.\n",
      "wget: unable to resolve host address ‘.’\n",
      "FINISHED --2021-05-06 21:57:18--\n",
      "Total wall clock time: 34s\n",
      "Downloaded: 1 files, 63M in 34s (1.85 MB/s)\n",
      "--2021-05-06 21:57:18--  https://s3.amazonaws.com/text-datasets/imdb_word_index.json\n",
      "Resolving s3.amazonaws.com (s3.amazonaws.com)... 52.216.19.11\n",
      "Connecting to s3.amazonaws.com (s3.amazonaws.com)|52.216.19.11|:443... connected.\n",
      "HTTP request sent, awaiting response... 200 OK\n",
      "Length: 1641221 (1.6M) [application/octet-stream]\n",
      "Saving to: ‘imdb_word_index.json’\n",
      "\n",
      "imdb_word_index.jso 100%[===================>]   1.56M  1.30MB/s    in 1.2s    \n",
      "\n",
      "2021-05-06 21:57:20 (1.30 MB/s) - ‘imdb_word_index.json’ saved [1641221/1641221]\n",
      "\n",
      "--2021-05-06 21:57:20--  http://./\n",
      "Resolving . (.)... failed: Temporary failure in name resolution.\n",
      "wget: unable to resolve host address ‘.’\n",
      "FINISHED --2021-05-06 21:57:20--\n",
      "Total wall clock time: 1.9s\n",
      "Downloaded: 1 files, 1.6M in 1.2s (1.30 MB/s)\n"
     ]
    }
   ],
   "source": [
    "!wget -nc https://s3.amazonaws.com/text-datasets/imdb_full.pkl .\n",
    "!wget -nc https://s3.amazonaws.com/text-datasets/imdb_word_index.json ."
   ]
  },
  {
   "cell_type": "code",
   "execution_count": 3,
   "metadata": {},
   "outputs": [],
   "source": [
    "import pickle\n",
    "data = pickle.load(open('imdb_full.pkl', 'rb'))\n",
    "\n",
    "import json\n",
    "vocab = json.load(open('imdb_word_index.json'))"
   ]
  },
  {
   "cell_type": "code",
   "execution_count": 4,
   "metadata": {},
   "outputs": [],
   "source": [
    "inv = {idx:word for word, idx in vocab.items()}"
   ]
  },
  {
   "cell_type": "code",
   "execution_count": 5,
   "metadata": {},
   "outputs": [],
   "source": [
    "from sklearn.model_selection import train_test_split\n",
    "\n",
    "\n",
    "(X_train, y_train), (Xt, yt) = data\n",
    "\n",
    "trainidx = [i for i, x in enumerate(X_train) if len(x) < 400]\n",
    "trainidx, devidx = train_test_split(trainidx, train_size=0.8, random_state=1378)\n",
    "X = [X_train[i] for i in trainidx]\n",
    "y = [y_train[i] for i in trainidx]\n",
    "\n",
    "Xd = [X_train[i] for i in devidx]\n",
    "yd = [y_train[i] for i in devidx]\n",
    "\n",
    "testidx = [i for i, x in enumerate(Xt) if len(x) < 400]\n",
    "testidx, remaining_idx =  train_test_split(testidx, train_size=0.2, random_state=1378)\n",
    "\n",
    "Xt = [Xt[i] for i in testidx]\n",
    "yt = [yt[i] for i in testidx]\n",
    "\n",
    "def invert_and_join(X) :\n",
    "    X = [[inv[x] for x in doc] for doc in X]\n",
    "    X = [\" \".join(x) for x in X]\n",
    "    return X\n",
    "\n",
    "X = invert_and_join(X)\n",
    "Xd = invert_and_join(Xd)\n",
    "Xt = invert_and_join(Xt)"
   ]
  },
  {
   "cell_type": "code",
   "execution_count": 6,
   "metadata": {},
   "outputs": [],
   "source": [
    "texts = {'train' : X, 'test' : Xt,\n",
    "         'dev' : Xd}\n",
    "labels = {'train' : y, 'test' : yt, 'dev' : yd}"
   ]
  },
  {
   "cell_type": "code",
   "execution_count": 9,
   "metadata": {},
   "outputs": [],
   "source": [
    "import pandas as pd\n",
    "from preprocess_bc import cleaner\n",
    "\n",
    "df_texts = []\n",
    "df_labels = []\n",
    "df_exp_splits = []\n",
    "\n",
    "for key in ['train', 'test', 'dev'] :\n",
    "    \n",
    "    df_texts += texts[key]\n",
    "    df_labels += labels[key]\n",
    "    df_exp_splits += [key] * len(texts[key])\n",
    "    \n",
    "df = pd.DataFrame({'text' : df_texts, 'label' : df_labels, 'exp_split' : df_exp_splits})\n",
    "\n",
    "df[\"text\"] = df[\"text\"].apply(lambda x: \" \".join(cleaner(x)))\n",
    "\n",
    "df.to_csv('imdb_dataset.csv', index=False)"
   ]
  },
  {
   "cell_type": "code",
   "execution_count": 10,
   "metadata": {},
   "outputs": [
    {
     "data": {
      "text/html": [
       "<div>\n",
       "<style scoped>\n",
       "    .dataframe tbody tr th:only-of-type {\n",
       "        vertical-align: middle;\n",
       "    }\n",
       "\n",
       "    .dataframe tbody tr th {\n",
       "        vertical-align: top;\n",
       "    }\n",
       "\n",
       "    .dataframe thead th {\n",
       "        text-align: right;\n",
       "    }\n",
       "</style>\n",
       "<table border=\"1\" class=\"dataframe\">\n",
       "  <thead>\n",
       "    <tr style=\"text-align: right;\">\n",
       "      <th></th>\n",
       "      <th>text</th>\n",
       "      <th>label</th>\n",
       "      <th>exp_split</th>\n",
       "    </tr>\n",
       "  </thead>\n",
       "  <tbody>\n",
       "    <tr>\n",
       "      <th>0</th>\n",
       "      <td>if you have any kind of heart and compassion f...</td>\n",
       "      <td>1</td>\n",
       "      <td>train</td>\n",
       "    </tr>\n",
       "    <tr>\n",
       "      <th>1</th>\n",
       "      <td>the name of this film alone made me want to se...</td>\n",
       "      <td>1</td>\n",
       "      <td>train</td>\n",
       "    </tr>\n",
       "    <tr>\n",
       "      <th>2</th>\n",
       "      <td>bugs life is a good film but to me it does n't...</td>\n",
       "      <td>1</td>\n",
       "      <td>train</td>\n",
       "    </tr>\n",
       "    <tr>\n",
       "      <th>3</th>\n",
       "      <td>rachel griffiths writes and directs this award...</td>\n",
       "      <td>1</td>\n",
       "      <td>train</td>\n",
       "    </tr>\n",
       "    <tr>\n",
       "      <th>4</th>\n",
       "      <td>after eagerly waiting to the end i have to say...</td>\n",
       "      <td>0</td>\n",
       "      <td>train</td>\n",
       "    </tr>\n",
       "    <tr>\n",
       "      <th>5</th>\n",
       "      <td>this was the most pointless film i have ever s...</td>\n",
       "      <td>0</td>\n",
       "      <td>train</td>\n",
       "    </tr>\n",
       "    <tr>\n",
       "      <th>6</th>\n",
       "      <td>how can you go wrong with the amazing ramones ...</td>\n",
       "      <td>1</td>\n",
       "      <td>train</td>\n",
       "    </tr>\n",
       "    <tr>\n",
       "      <th>7</th>\n",
       "      <td>a true story about a true revolution qqq of ap...</td>\n",
       "      <td>1</td>\n",
       "      <td>train</td>\n",
       "    </tr>\n",
       "    <tr>\n",
       "      <th>8</th>\n",
       "      <td>i watched this movie every chance i got back i...</td>\n",
       "      <td>1</td>\n",
       "      <td>train</td>\n",
       "    </tr>\n",
       "    <tr>\n",
       "      <th>9</th>\n",
       "      <td>everybody 's got bills to pay and that include...</td>\n",
       "      <td>1</td>\n",
       "      <td>train</td>\n",
       "    </tr>\n",
       "  </tbody>\n",
       "</table>\n",
       "</div>"
      ],
      "text/plain": [
       "                                                text  label exp_split\n",
       "0  if you have any kind of heart and compassion f...      1     train\n",
       "1  the name of this film alone made me want to se...      1     train\n",
       "2  bugs life is a good film but to me it does n't...      1     train\n",
       "3  rachel griffiths writes and directs this award...      1     train\n",
       "4  after eagerly waiting to the end i have to say...      0     train\n",
       "5  this was the most pointless film i have ever s...      0     train\n",
       "6  how can you go wrong with the amazing ramones ...      1     train\n",
       "7  a true story about a true revolution qqq of ap...      1     train\n",
       "8  i watched this movie every chance i got back i...      1     train\n",
       "9  everybody 's got bills to pay and that include...      1     train"
      ]
     },
     "execution_count": 10,
     "metadata": {},
     "output_type": "execute_result"
    }
   ],
   "source": [
    "df.head(10)"
   ]
  },
  {
   "cell_type": "code",
   "execution_count": 11,
   "metadata": {},
   "outputs": [
    {
     "data": {
      "text/plain": [
       "25879"
      ]
     },
     "execution_count": 11,
     "metadata": {},
     "output_type": "execute_result"
    }
   ],
   "source": [
    "len(df)"
   ]
  },
  {
   "cell_type": "markdown",
   "metadata": {},
   "source": [
    "### Forming our vocabulary, ixing data and saving it"
   ]
  },
  {
   "cell_type": "code",
   "execution_count": 12,
   "metadata": {},
   "outputs": [],
   "source": [
    "from preprocess_bc import extract_vocabulary_\n",
    "\n",
    "word_to_ix = extract_vocabulary_(min_df = 10, dataframe = df)"
   ]
  },
  {
   "cell_type": "code",
   "execution_count": 13,
   "metadata": {},
   "outputs": [],
   "source": [
    "df[\"text\"] = df[\"text\"].apply(lambda x: (\"<SOS> \" + x + \" <EOS>\").split())"
   ]
  },
  {
   "cell_type": "code",
   "execution_count": 14,
   "metadata": {},
   "outputs": [],
   "source": [
    "from preprocess_bc import text_to_seq\n",
    "\n",
    "ix_to_word = {v:k for k,v in word_to_ix.items()}\n",
    "\n",
    "train_ix = text_to_seq(df[df.exp_split == \"train\"][[\"text\",\"label\"]].values, word_to_ix)\n",
    "dev_ix = text_to_seq(df[df.exp_split == \"dev\"][[\"text\",\"label\"]].values, word_to_ix)\n",
    "test_ix = text_to_seq(df[df.exp_split == \"test\"][[\"text\",\"label\"]].values, word_to_ix)"
   ]
  },
  {
   "cell_type": "markdown",
   "metadata": {},
   "source": [
    "### Preparing our embeddings"
   ]
  },
  {
   "cell_type": "code",
   "execution_count": 15,
   "metadata": {},
   "outputs": [
    {
     "name": "stderr",
     "output_type": "stream",
     "text": [
      "../.vector_cache/glove.840B.300d.zip: 2.18GB [20:39, 1.76MB/s]                                \n",
      "100%|█████████▉| 2196016/2196017 [02:37<00:00, 13930.22it/s]\n"
     ]
    },
    {
     "name": "stdout",
     "output_type": "stream",
     "text": [
      "Found  12101  words out of  12147\n"
     ]
    }
   ],
   "source": [
    "from preprocess_bc import pretrained_embeds, DataHolder_BC\n",
    "\n",
    "pre = pretrained_embeds(\"glove.840B.300d\", ix_to_word)\n",
    "\n",
    "pretrained = pre.processed()"
   ]
  },
  {
   "cell_type": "code",
   "execution_count": 16,
   "metadata": {},
   "outputs": [],
   "source": [
    "data = DataHolder_BC(train_ix, dev_ix, test_ix, word_to_ix, embeds =  pretrained)"
   ]
  },
  {
   "cell_type": "code",
   "execution_count": 17,
   "metadata": {},
   "outputs": [],
   "source": [
    "import pickle\n",
    "\n",
    "pickle.dump(data, open(\"data.p\", \"wb\"))"
   ]
  },
  {
   "cell_type": "code",
   "execution_count": 18,
   "metadata": {},
   "outputs": [],
   "source": [
    "!rm imdb_word_index*\n",
    "!rm imdb_full*"
   ]
  }
 ],
 "metadata": {
  "kernelspec": {
   "display_name": "Python 3",
   "language": "python",
   "name": "python3"
  },
  "language_info": {
   "codemirror_mode": {
    "name": "ipython",
    "version": 3
   },
   "file_extension": ".py",
   "mimetype": "text/x-python",
   "name": "python",
   "nbconvert_exporter": "python",
   "pygments_lexer": "ipython3",
   "version": "3.6.10"
  }
 },
 "nbformat": 4,
 "nbformat_minor": 2
}
